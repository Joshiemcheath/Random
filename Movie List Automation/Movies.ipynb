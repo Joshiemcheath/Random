{
 "cells": [
  {
   "cell_type": "code",
   "execution_count": 5,
   "metadata": {},
   "outputs": [],
   "source": [
    "import imdb\n",
    "import time\n",
    "import gspread\n",
    "from oauth2client.service_account import ServiceAccountCredentials"
   ]
  },
  {
   "cell_type": "code",
   "execution_count": 6,
   "metadata": {},
   "outputs": [],
   "source": [
    "def is_in_mov(key):\n",
    "    return key in mov.keys()"
   ]
  },
  {
   "cell_type": "code",
   "execution_count": 16,
   "metadata": {},
   "outputs": [
    {
     "name": "stdout",
     "output_type": "stream",
     "text": [
      "Difference Noted\n",
      "Difference Noted\n",
      "Difference Noted\n",
      "Difference Noted\n",
      "Difference Noted\n",
      "Difference Noted\n",
      "Difference Noted\n",
      "Difference Noted\n",
      "Difference Noted\n",
      "Difference Noted\n",
      "Difference Noted\n",
      "Difference Noted\n",
      "Difference Noted\n",
      "Difference Noted\n",
      "Difference Noted\n",
      "Difference Noted\n"
     ]
    },
    {
     "ename": "APIError",
     "evalue": "{\n \"error\": {\n  \"errors\": [\n   {\n    \"domain\": \"global\",\n    \"reason\": \"authError\",\n    \"message\": \"Invalid Credentials\",\n    \"locationType\": \"header\",\n    \"location\": \"Authorization\"\n   }\n  ],\n  \"code\": 401,\n  \"message\": \"Invalid Credentials\"\n }\n}\n",
     "output_type": "error",
     "traceback": [
      "\u001b[0;31m---------------------------------------------------------------------------\u001b[0m",
      "\u001b[0;31mAPIError\u001b[0m                                  Traceback (most recent call last)",
      "\u001b[0;32m<ipython-input-16-7f2ec603fb2c>\u001b[0m in \u001b[0;36m<module>\u001b[0;34m\u001b[0m\n\u001b[1;32m     11\u001b[0m     \u001b[0;31m# use creds to create a client to interact with the Google Drive API\u001b[0m\u001b[0;34m\u001b[0m\u001b[0;34m\u001b[0m\u001b[0;34m\u001b[0m\u001b[0m\n\u001b[1;32m     12\u001b[0m     \u001b[0mclient\u001b[0m \u001b[0;34m=\u001b[0m \u001b[0mgspread\u001b[0m\u001b[0;34m.\u001b[0m\u001b[0mauthorize\u001b[0m\u001b[0;34m(\u001b[0m\u001b[0mcreds\u001b[0m\u001b[0;34m)\u001b[0m\u001b[0;34m\u001b[0m\u001b[0;34m\u001b[0m\u001b[0m\n\u001b[0;32m---> 13\u001b[0;31m     \u001b[0msheet\u001b[0m \u001b[0;34m=\u001b[0m \u001b[0mclient\u001b[0m\u001b[0;34m.\u001b[0m\u001b[0mopen\u001b[0m\u001b[0;34m(\u001b[0m\u001b[0;34m'Movie Watching'\u001b[0m\u001b[0;34m)\u001b[0m\u001b[0;34m.\u001b[0m\u001b[0msheet1\u001b[0m\u001b[0;34m\u001b[0m\u001b[0;34m\u001b[0m\u001b[0m\n\u001b[0m\u001b[1;32m     14\u001b[0m \u001b[0;34m\u001b[0m\u001b[0m\n\u001b[1;32m     15\u001b[0m     \u001b[0mnew_sheet\u001b[0m \u001b[0;34m=\u001b[0m \u001b[0msheet\u001b[0m\u001b[0;34m.\u001b[0m\u001b[0mget_all_records\u001b[0m\u001b[0;34m(\u001b[0m\u001b[0;34m)\u001b[0m\u001b[0;34m\u001b[0m\u001b[0;34m\u001b[0m\u001b[0m\n",
      "\u001b[0;32m/opt/anaconda3/lib/python3.7/site-packages/gspread/client.py\u001b[0m in \u001b[0;36mopen\u001b[0;34m(self, title)\u001b[0m\n\u001b[1;32m    121\u001b[0m             properties = finditem(\n\u001b[1;32m    122\u001b[0m                 \u001b[0;32mlambda\u001b[0m \u001b[0mx\u001b[0m\u001b[0;34m:\u001b[0m \u001b[0mx\u001b[0m\u001b[0;34m[\u001b[0m\u001b[0;34m'name'\u001b[0m\u001b[0;34m]\u001b[0m \u001b[0;34m==\u001b[0m \u001b[0mtitle\u001b[0m\u001b[0;34m,\u001b[0m\u001b[0;34m\u001b[0m\u001b[0;34m\u001b[0m\u001b[0m\n\u001b[0;32m--> 123\u001b[0;31m                 \u001b[0mself\u001b[0m\u001b[0;34m.\u001b[0m\u001b[0mlist_spreadsheet_files\u001b[0m\u001b[0;34m(\u001b[0m\u001b[0;34m)\u001b[0m\u001b[0;34m\u001b[0m\u001b[0;34m\u001b[0m\u001b[0m\n\u001b[0m\u001b[1;32m    124\u001b[0m             )\n\u001b[1;32m    125\u001b[0m \u001b[0;34m\u001b[0m\u001b[0m\n",
      "\u001b[0;32m/opt/anaconda3/lib/python3.7/site-packages/gspread/client.py\u001b[0m in \u001b[0;36mlist_spreadsheet_files\u001b[0;34m(self)\u001b[0m\n\u001b[1;32m     94\u001b[0m                 \u001b[0mparams\u001b[0m\u001b[0;34m[\u001b[0m\u001b[0;34m'pageToken'\u001b[0m\u001b[0;34m]\u001b[0m \u001b[0;34m=\u001b[0m \u001b[0mpage_token\u001b[0m\u001b[0;34m\u001b[0m\u001b[0;34m\u001b[0m\u001b[0m\n\u001b[1;32m     95\u001b[0m \u001b[0;34m\u001b[0m\u001b[0m\n\u001b[0;32m---> 96\u001b[0;31m             \u001b[0mres\u001b[0m \u001b[0;34m=\u001b[0m \u001b[0mself\u001b[0m\u001b[0;34m.\u001b[0m\u001b[0mrequest\u001b[0m\u001b[0;34m(\u001b[0m\u001b[0;34m'get'\u001b[0m\u001b[0;34m,\u001b[0m \u001b[0murl\u001b[0m\u001b[0;34m,\u001b[0m \u001b[0mparams\u001b[0m\u001b[0;34m=\u001b[0m\u001b[0mparams\u001b[0m\u001b[0;34m)\u001b[0m\u001b[0;34m.\u001b[0m\u001b[0mjson\u001b[0m\u001b[0;34m(\u001b[0m\u001b[0;34m)\u001b[0m\u001b[0;34m\u001b[0m\u001b[0;34m\u001b[0m\u001b[0m\n\u001b[0m\u001b[1;32m     97\u001b[0m             \u001b[0mfiles\u001b[0m\u001b[0;34m.\u001b[0m\u001b[0mextend\u001b[0m\u001b[0;34m(\u001b[0m\u001b[0mres\u001b[0m\u001b[0;34m[\u001b[0m\u001b[0;34m'files'\u001b[0m\u001b[0;34m]\u001b[0m\u001b[0;34m)\u001b[0m\u001b[0;34m\u001b[0m\u001b[0;34m\u001b[0m\u001b[0m\n\u001b[1;32m     98\u001b[0m             \u001b[0mpage_token\u001b[0m \u001b[0;34m=\u001b[0m \u001b[0mres\u001b[0m\u001b[0;34m.\u001b[0m\u001b[0mget\u001b[0m\u001b[0;34m(\u001b[0m\u001b[0;34m'nextPageToken'\u001b[0m\u001b[0;34m,\u001b[0m \u001b[0;32mNone\u001b[0m\u001b[0;34m)\u001b[0m\u001b[0;34m\u001b[0m\u001b[0;34m\u001b[0m\u001b[0m\n",
      "\u001b[0;32m/opt/anaconda3/lib/python3.7/site-packages/gspread/client.py\u001b[0m in \u001b[0;36mrequest\u001b[0;34m(self, method, endpoint, params, data, json, files, headers)\u001b[0m\n\u001b[1;32m     77\u001b[0m             \u001b[0;32mreturn\u001b[0m \u001b[0mresponse\u001b[0m\u001b[0;34m\u001b[0m\u001b[0;34m\u001b[0m\u001b[0m\n\u001b[1;32m     78\u001b[0m         \u001b[0;32melse\u001b[0m\u001b[0;34m:\u001b[0m\u001b[0;34m\u001b[0m\u001b[0;34m\u001b[0m\u001b[0m\n\u001b[0;32m---> 79\u001b[0;31m             \u001b[0;32mraise\u001b[0m \u001b[0mAPIError\u001b[0m\u001b[0;34m(\u001b[0m\u001b[0mresponse\u001b[0m\u001b[0;34m)\u001b[0m\u001b[0;34m\u001b[0m\u001b[0;34m\u001b[0m\u001b[0m\n\u001b[0m\u001b[1;32m     80\u001b[0m \u001b[0;34m\u001b[0m\u001b[0m\n\u001b[1;32m     81\u001b[0m     \u001b[0;32mdef\u001b[0m \u001b[0mlist_spreadsheet_files\u001b[0m\u001b[0;34m(\u001b[0m\u001b[0mself\u001b[0m\u001b[0;34m)\u001b[0m\u001b[0;34m:\u001b[0m\u001b[0;34m\u001b[0m\u001b[0;34m\u001b[0m\u001b[0m\n",
      "\u001b[0;31mAPIError\u001b[0m: {\n \"error\": {\n  \"errors\": [\n   {\n    \"domain\": \"global\",\n    \"reason\": \"authError\",\n    \"message\": \"Invalid Credentials\",\n    \"locationType\": \"header\",\n    \"location\": \"Authorization\"\n   }\n  ],\n  \"code\": 401,\n  \"message\": \"Invalid Credentials\"\n }\n}\n"
     ]
    }
   ],
   "source": [
    "# use creds to create a client to interact with the Google Drive API\n",
    "scope = ['https://spreadsheets.google.com/feeds', 'https://www.googleapis.com/auth/drive']\n",
    "creds = ServiceAccountCredentials.from_json_keyfile_name('Movies-bde5ec65acca.json', scope)\n",
    "\n",
    "client = gspread.authorize(creds)\n",
    "sheet = client.open('Movie Watching').sheet1\n",
    "\n",
    "prev_sheet = sheet.get_all_records()\n",
    "while(True):\n",
    "    \n",
    "    # use creds to create a client to interact with the Google Drive API\n",
    "    client = gspread.authorize(creds)\n",
    "    sheet = client.open('Movie Watching').sheet1\n",
    "    \n",
    "    new_sheet = sheet.get_all_records()\n",
    "    \n",
    "    if new_sheet != prev_sheet:\n",
    "        \n",
    "        print(\"Difference Noted\")\n",
    "        \n",
    "        prev_sheet_movies = [str(row_dict['Title']) for row_dict in prev_sheet]\n",
    "        new_sheet_movies = [str(row_dict['Title']) for row_dict in new_sheet]\n",
    "        \n",
    "        for index, movie_title in enumerate(new_sheet_movies):\n",
    "            \n",
    "            try:\n",
    "                if movie_title != prev_sheet_movies[index]:\n",
    "                    row = index + 2\n",
    "                    cells_to_update = sheet.range(row, 2, row, 16)\n",
    "                    \n",
    "                    if len(movie_title) > 0:\n",
    "                        \n",
    "                        movie_obj = imdb.IMDb()\n",
    "                        mov = movie_obj.search_movie(movie_title)\n",
    "                        if len(mov) > 0:\n",
    "\n",
    "                            mov = movie_obj.get_movie(mov[0].movieID)\n",
    "\n",
    "                            if is_in_mov('title'): \n",
    "                                if is_in_mov('full-size cover url'):\n",
    "                                    cells_to_update[0].value = '=HYPERLINK(\\\"' + mov['full-size cover url'] + '\\\",\\\"' + mov['title'] + '\\\")'\n",
    "                                else:\n",
    "                                    cells_to_update[0].value = mov['title']\n",
    "                            if is_in_mov('runtimes'): cells_to_update[1].value = mov['runtimes'][0]\n",
    "                            if is_in_mov('rating'): cells_to_update[2].value = mov['rating']\n",
    "                            if is_in_mov('plot'): cells_to_update[3].value = mov['plot'][0].split('::')[0]\n",
    "                            if is_in_mov('genres'): cells_to_update[4].value = ', '.join(mov['genres'])\n",
    "                            if is_in_mov('year'): cells_to_update[5].value = mov['year']\n",
    "                            if is_in_mov('cast'): cells_to_update[6].value = mov['cast'][0]['name'] + \", \" + mov['cast'][1]['name']\n",
    "                            if is_in_mov('director'): cells_to_update[7].value = mov['director'][0]['name']\\\n",
    "\n",
    "                    else:\n",
    "                        for i in range(8):\n",
    "                            cells_to_update[i].value = \"\"\n",
    "                                \n",
    "                    cells_to_update[8].value = \"N/A\"      \n",
    "                    for i in range(9, 14):\n",
    "                        cells_to_update[i].value = \"Indifferent\"\n",
    "                    sheet.update_cells(cells_to_update, value_input_option='USER_ENTERED') \n",
    "                    \n",
    "                    \n",
    "            except Exception as e:\n",
    "                print(e)\n",
    "    \n",
    "    prev_sheet = sheet.get_all_records()\n",
    "        \n",
    "    time.sleep(4)"
   ]
  },
  {
   "cell_type": "code",
   "execution_count": 201,
   "metadata": {},
   "outputs": [
    {
     "name": "stdout",
     "output_type": "stream",
     "text": [
      "Election\n",
      "A high school teacher's personal life becomes complicated as he works with students during the school elections, particularly with an obsessive overachiever determined to become student body president.\n",
      "103\n",
      "Matthew Broderick Reese Witherspoon\n",
      "7.2\n",
      "1999\n",
      "Comedy, Drama, Romance\n",
      "Alexander Payne\n",
      "The high school Class President election is approaching and it looks like Tracy Flick is going to win, unopposed. However, teacher Jim McAllister has other plans. He convinces jock Paul Metzler to run, sparking off an interesting chain of events.\n",
      "https://m.media-amazon.com/images/M/MV5BYjViYWQ4NjAtZmUzNy00Nzg5LWJkMzctMTgwOTRhNjdjYWI3XkEyXkFqcGdeQXVyMTQxNzMzNDI@.jpg\n"
     ]
    },
    {
     "data": {
      "text/plain": [
       "str"
      ]
     },
     "execution_count": 201,
     "metadata": {},
     "output_type": "execute_result"
    }
   ],
   "source": [
    "movie = imdb.IMDb()\n",
    "provided_string = 'Election'\n",
    "x = movie.search_movie(provided_string)[0]\n",
    "x = movie.get_movie(x.movieID)\n",
    "\n",
    "print(x)\n",
    "print(x['plot'][0].split('::')[0])\n",
    "print(x['runtime'][0])\n",
    "print(str(x['cast'][0]), x['cast'][1])\n",
    "print(x['rating'])\n",
    "print(x['year'])\n",
    "print(', '.join(x['genres']))\n",
    "print(x['director'][0])\n",
    "print(x['plot outline'])\n",
    "print(x['full-size cover url'])\n",
    "\n",
    "type(x['cast'][0]['name'])\n",
    "\n",
    "#print(x.summary())"
   ]
  },
  {
   "cell_type": "code",
   "execution_count": 123,
   "metadata": {},
   "outputs": [
    {
     "name": "stdout",
     "output_type": "stream",
     "text": [
      "88\n",
      "89\n",
      "88\n",
      "------\n",
      "American History X\n",
      "Suh\n",
      "American History X\n",
      "------\n",
      "American History X\n",
      "Suh\n",
      "American History X\n",
      "------\n",
      "American History X\n",
      "[<Cell R3C2 'American History X'>]\n",
      "Suh\n",
      "American History X\n"
     ]
    }
   ],
   "source": [
    "dict_content = sheet.get_all_records()\n",
    "print(len(dict_content))\n",
    "\n",
    "sheet.append_row(['suhhh dude'])\n",
    "\n",
    "dict_content = sheet.get_all_records()\n",
    "print(len(dict_content))\n",
    "\n",
    "sheet.delete_row(len(dict_content)+1)\n",
    "\n",
    "dict_content = sheet.get_all_records()\n",
    "print(len(dict_content))\n",
    "\n",
    "print(\"------\")\n",
    "\n",
    "print(sheet.acell('B3').value)\n",
    "\n",
    "prev_value = sheet.acell('B3').value\n",
    "\n",
    "sheet.update_acell('B3', 'Suh')\n",
    "print(sheet.acell('B3').value)\n",
    "\n",
    "sheet.update_acell('B3', prev_value)\n",
    "print(sheet.acell('B3').value)\n",
    "\n",
    "print(\"------\")\n",
    "\n",
    "print(sheet.cell(3,2).value)\n",
    "\n",
    "prev_value = sheet.cell(3,2).value\n",
    "\n",
    "sheet.update_cell(3, 2, 'Suh')\n",
    "print(sheet.cell(3,2).value)\n",
    "\n",
    "sheet.update_cell(3, 2, prev_value)\n",
    "print(sheet.cell(3,2).value)\n",
    "\n",
    "print(\"------\")\n",
    "\n",
    "search_for_val = sheet.find(prev_value)\n",
    "print(search_for_val.value)\n",
    "\n",
    "#Find a list of all cells that contain the search string \n",
    "search_for_all_vals_LIST = sheet.findall(prev_value)\n",
    "print(search_for_all_vals_LIST)\n",
    "\n",
    "#Change the value of one of the cells in this list, and push that update\n",
    "search_for_all_vals_LIST[0].value = 'Suh'\n",
    "sheet.update_cells(search_for_all_vals_LIST)\n",
    "print(sheet.cell(3,2).value)\n",
    "\n",
    "search_for_all_vals_LIST[0].value = prev_value\n",
    "sheet.update_cells(search_for_all_vals_LIST)\n",
    "print(sheet.cell(3,2).value)\n",
    "\n",
    "\n",
    "#sheet.range(first_row,first_col, last_row,last_col)"
   ]
  },
  {
   "cell_type": "code",
   "execution_count": null,
   "metadata": {},
   "outputs": [],
   "source": []
  }
 ],
 "metadata": {
  "kernelspec": {
   "display_name": "Python 3",
   "language": "python",
   "name": "python3"
  }
 },
 "nbformat": 4,
 "nbformat_minor": 2
}
